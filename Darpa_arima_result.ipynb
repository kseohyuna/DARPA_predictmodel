{
 "cells": [
  {
   "cell_type": "code",
   "execution_count": 4,
   "metadata": {},
   "outputs": [],
   "source": [
    "import scipy.io as sio\n",
    "import matplotlib.pyplot as plt\n",
    "import numpy as np\n",
    "\n",
    "from pandas import read_csv\n",
    "import pandas as pd\n",
    "import statsmodels.api as sm\n",
    "from statsmodels.tsa.arima_model import ARIMA\n",
    "from math import sqrt"
   ]
  },
  {
   "cell_type": "code",
   "execution_count": 5,
   "metadata": {},
   "outputs": [
    {
     "ename": "KeyError",
     "evalue": "'t_ans'",
     "output_type": "error",
     "traceback": [
      "\u001b[0;31m---------------------------------------------------------------------------\u001b[0m",
      "\u001b[0;31mKeyError\u001b[0m                                  Traceback (most recent call last)",
      "\u001b[0;32m<ipython-input-5-c51931dab8d7>\u001b[0m in \u001b[0;36m<module>\u001b[0;34m\u001b[0m\n\u001b[1;32m      2\u001b[0m \u001b[0mt_data\u001b[0m \u001b[0;34m=\u001b[0m \u001b[0mdata\u001b[0m\u001b[0;34m[\u001b[0m\u001b[0;34m't_data'\u001b[0m\u001b[0;34m]\u001b[0m\u001b[0;34m\u001b[0m\u001b[0;34m\u001b[0m\u001b[0m\n\u001b[1;32m      3\u001b[0m \u001b[0my_data\u001b[0m \u001b[0;34m=\u001b[0m \u001b[0mdata\u001b[0m\u001b[0;34m[\u001b[0m\u001b[0;34m'y_data'\u001b[0m\u001b[0;34m]\u001b[0m\u001b[0;34m\u001b[0m\u001b[0;34m\u001b[0m\u001b[0m\n\u001b[0;32m----> 4\u001b[0;31m \u001b[0mt_ans\u001b[0m \u001b[0;34m=\u001b[0m \u001b[0mdata\u001b[0m\u001b[0;34m[\u001b[0m\u001b[0;34m't_ans'\u001b[0m\u001b[0;34m]\u001b[0m\u001b[0;34m\u001b[0m\u001b[0;34m\u001b[0m\u001b[0m\n\u001b[0m\u001b[1;32m      5\u001b[0m \u001b[0my_ans\u001b[0m \u001b[0;34m=\u001b[0m \u001b[0mdata\u001b[0m\u001b[0;34m[\u001b[0m\u001b[0;34m'y_ans'\u001b[0m\u001b[0;34m]\u001b[0m\u001b[0;34m\u001b[0m\u001b[0;34m\u001b[0m\u001b[0m\n\u001b[1;32m      6\u001b[0m \u001b[0;34m\u001b[0m\u001b[0m\n",
      "\u001b[0;31mKeyError\u001b[0m: 't_ans'"
     ]
    }
   ],
   "source": [
    "data = sio.loadmat('collected.mat')\n",
    "t_data = data['t_data']\n",
    "y_data = data['y_data']\n",
    "t_ans = data['t_ans']\n",
    "y_ans = data['y_ans']\n",
    "\n",
    "t_cur = 4*60*1\n",
    "pred_n = 4*30\n",
    "len_pred = 4*10\n",
    "cur_data = y_ans[:t_cur]\n",
    "len_cur = len(cur_data)\n",
    "\n",
    "\n",
    "pred_result = []\n",
    "\n",
    "def predict(y, n):\n",
    "    for i in range(138):\n",
    "        model = ARIMA(y, order=[2,0,1])\n",
    "        model_fit = model.fit(disp=1)\n",
    "        fore = model_fit.forecast(steps=n)\n",
    "        value = np.expand_dims(fore[0],axis=1)\n",
    "        pred_result.append(value)\n",
    "        \n",
    "        cur_data = np.vstack([y,value])\n",
    "        cur_data = cur_data[len_cur:len_cur+n]\n",
    "\n",
    "    return \n",
    "y_pred = predict(cur_data,pred_n)\n",
    "#y_pred = predict(data,cur_data,pred_n)\n",
    "pred_result = np.array(pred_result)\n",
    "pred_result = np.squeeze(pred_result, 2)\n",
    "\n",
    "def rmse(pred, ans):\n",
    "    return np.sqrt(np.mean((pred-ans)**2)) \n",
    "\n",
    "rmse_result = []\n",
    "for i in range(138):\n",
    "    diff = rmse(y_ans[t_cur:t_cur+pred_n],pred_result[i])\n",
    "    rmse_result.append(diff)\n",
    "    t_cur = t_cur+len_pred\n",
    "\n",
    "rmse_result = np.array(rmse_result)\n",
    "# print(rmse_result)\n",
    "print(rmse_result.mean())\n",
    "\n",
    "#print(rmse(y_ans[t_cur:t_cur+pred_n],np.ones(pred_n)*60))\n",
    "#plt.plot(t_ans[t_cur:t_cur+pred_n], y_ans[t_cur:t_cur+pred_n])\n",
    "#plt.plot(t_ans[t_cur:t_cur+pred_n], y_pred[:])\n",
    "#plt.show()"
   ]
  },
  {
   "cell_type": "code",
   "execution_count": 6,
   "metadata": {},
   "outputs": [
    {
     "ename": "NameError",
     "evalue": "name 'y_ans' is not defined",
     "output_type": "error",
     "traceback": [
      "\u001b[0;31m---------------------------------------------------------------------------\u001b[0m",
      "\u001b[0;31mNameError\u001b[0m                                 Traceback (most recent call last)",
      "\u001b[0;32m<ipython-input-6-9e51ccd73d35>\u001b[0m in \u001b[0;36m<module>\u001b[0;34m\u001b[0m\n\u001b[0;32m----> 1\u001b[0;31m \u001b[0mprint\u001b[0m\u001b[0;34m(\u001b[0m\u001b[0mnp\u001b[0m\u001b[0;34m.\u001b[0m\u001b[0mstd\u001b[0m\u001b[0;34m(\u001b[0m\u001b[0my_ans\u001b[0m\u001b[0;34m)\u001b[0m\u001b[0;34m)\u001b[0m\u001b[0;34m\u001b[0m\u001b[0;34m\u001b[0m\u001b[0m\n\u001b[0m",
      "\u001b[0;31mNameError\u001b[0m: name 'y_ans' is not defined"
     ]
    }
   ],
   "source": [
    "print(np.std(y_ans))"
   ]
  },
  {
   "cell_type": "code",
   "execution_count": null,
   "metadata": {},
   "outputs": [],
   "source": []
  }
 ],
 "metadata": {
  "kernelspec": {
   "display_name": "Python 3",
   "language": "python",
   "name": "python3"
  },
  "language_info": {
   "codemirror_mode": {
    "name": "ipython",
    "version": 3
   },
   "file_extension": ".py",
   "mimetype": "text/x-python",
   "name": "python",
   "nbconvert_exporter": "python",
   "pygments_lexer": "ipython3",
   "version": "3.6.9"
  }
 },
 "nbformat": 4,
 "nbformat_minor": 2
}
