{
 "cells": [
  {
   "cell_type": "code",
   "execution_count": 1,
   "metadata": {},
   "outputs": [],
   "source": [
    "import scipy.io as sio\n",
    "import matplotlib.pyplot as plt\n",
    "import numpy as np\n",
    "\n",
    "from pandas import read_csv\n",
    "import pandas as pd\n",
    "import statsmodels.api as sm\n",
    "from statsmodels.tsa.arima_model import ARIMA\n",
    "from math import sqrt\n",
    "from statsmodels.graphics.tsaplots import plot_acf, plot_pacf"
   ]
  },
  {
   "cell_type": "code",
   "execution_count": 2,
   "metadata": {},
   "outputs": [],
   "source": [
    "data = sio.loadmat('sample_west.mat')\n",
    "wt_data = data['t_data']\n",
    "w_data = data['y_data']\n",
    "wt_ans = data['t_ans']\n",
    "w_ans = data['y_ans']\n",
    "sm.tsa.adfuller(w_data)\n",
    "w_pi = []\n",
    "n = len(w_data)\n",
    "m = int(n/10)\n",
    "for i in range(10):\n",
    "    data = w_data[:m]\n",
    "    w = ARIMA(data, order=[2,0,0])\n",
    "    w_fit = w.fit()\n",
    "    wvalue = w_fit.arparams\n",
    "    w_pi.append(wvalue)\n",
    "    w_data = w_data[m:]"
   ]
  },
  {
   "cell_type": "code",
   "execution_count": 3,
   "metadata": {},
   "outputs": [],
   "source": [
    "data = sio.loadmat('sample_east.mat')\n",
    "et_data = data['t_data']\n",
    "e_data = data['y_data']\n",
    "et_ans = data['t_ans']\n",
    "e_ans = data['y_ans']\n",
    "e_pi = []\n",
    "n = len(e_data)\n",
    "m = int(n/10)\n",
    "for i in range(10):\n",
    "    data = e_data[:m]\n",
    "    e = ARIMA(data, order=[2,0,0])\n",
    "    e_fit = e.fit()\n",
    "    evalue = e_fit.arparams\n",
    "    e_pi.append(evalue)\n",
    "    e_data = e_data[m:]"
   ]
  },
  {
   "cell_type": "code",
   "execution_count": 4,
   "metadata": {},
   "outputs": [],
   "source": [
    "data = sio.loadmat('sample_texas.mat')\n",
    "tt_data = data['t_data']\n",
    "t_data = data['y_data']\n",
    "tt_ans = data['t_ans']\n",
    "t_ans = data['y_ans']\n",
    "t_pi = []\n",
    "n = len(t_data)\n",
    "m = int(n/10)\n",
    "for i in range(10):\n",
    "    data = t_data[:m]\n",
    "    t = ARIMA(data, order=[2,0,0])\n",
    "    t_fit = t.fit()\n",
    "    tvalue = t_fit.arparams\n",
    "    t_pi.append(tvalue)\n",
    "    t_data = t_data[m:]"
   ]
  },
  {
   "cell_type": "code",
   "execution_count": 5,
   "metadata": {},
   "outputs": [
    {
     "name": "stdout",
     "output_type": "stream",
     "text": [
      "[array([0.65245171, 0.27602271]), array([0.6468858 , 0.29336142]), array([0.66966589, 0.2706828 ]), array([0.66706702, 0.27027508]), array([0.66659033, 0.27347988]), array([0.67313809, 0.26370656]), array([0.66641527, 0.27835975]), array([0.67453863, 0.26698486]), array([0.63767828, 0.28745964]), array([0.66751121, 0.26976413])]\n",
      "[array([0.89116995, 0.02173629]), array([0.87255807, 0.03092572]), array([0.86883835, 0.04247704]), array([0.86555747, 0.01984319]), array([ 0.88888397, -0.00154175]), array([0.88413863, 0.03540314]), array([0.89528214, 0.00519456]), array([0.8795946 , 0.03050491]), array([0.82714214, 0.00632589]), array([0.80956088, 0.09889243])]\n",
      "[array([0.71177517, 0.15148279]), array([0.73108736, 0.13205758]), array([0.68220502, 0.15259861]), array([0.72281172, 0.147254  ]), array([0.68245864, 0.17228918]), array([0.70259849, 0.15604031]), array([0.72062571, 0.15916085]), array([0.74720494, 0.14856044]), array([0.72557413, 0.13887358]), array([0.72660771, 0.13550597])]\n"
     ]
    }
   ],
   "source": [
    "print(w_pi)\n",
    "print(e_pi)\n",
    "print(t_pi)"
   ]
  },
  {
   "cell_type": "code",
   "execution_count": 6,
   "metadata": {},
   "outputs": [
    {
     "data": {
      "image/png": "[encoded data removed]",
      "text/plain": [
       "<Figure size 432x288 with 1 Axes>"
      ]
     },
     "metadata": {
      "needs_background": "light"
     },
     "output_type": "display_data"
    }
   ],
   "source": [
    "for i in range(10):\n",
    "    plt.scatter(w_pi[i][0],y = w_pi[i][1], s = 30, c = 'g')\n",
    "    plt.scatter(e_pi[i][0],y = e_pi[i][1], s = 30, c = 'b')\n",
    "    plt.scatter(t_pi[i][0],y = t_pi[i][1], s = 30, c = 'r')"
   ]
  },
  {
   "cell_type": "markdown",
   "metadata": {},
   "source": [
    "# Linear Regression"
   ]
  },
  {
   "cell_type": "code",
   "execution_count": 7,
   "metadata": {},
   "outputs": [],
   "source": [
    "from sklearn.linear_model import LinearRegression\n",
    "import pandas as pd"
   ]
  },
  {
   "cell_type": "code",
   "execution_count": 40,
   "metadata": {},
   "outputs": [],
   "source": [
    "x_wpi = []\n",
    "y_wpi = []\n",
    "x_epi = []\n",
    "y_epi = []\n",
    "x_tpi = []\n",
    "y_tpi = []\n",
    "for i in range(10):\n",
    "    x_wpi.append(w_pi[i][0])\n",
    "    y_wpi.append(w_pi[i][1])\n",
    "    x_epi.append(e_pi[i][0])\n",
    "    y_epi.append(e_pi[i][1])\n",
    "    x_tpi.append(t_pi[i][0])\n",
    "    y_tpi.append(t_pi[i][1])\n",
    "x_wpi = np.array(x_wpi)\n",
    "y_wpi = np.array(y_wpi)\n",
    "x_epi = np.array(x_epi)\n",
    "y_epi = np.array(y_epi)\n",
    "x_tpi = np.array(x_tpi)\n",
    "y_tpi = np.array(y_tpi)"
   ]
  },
  {
   "cell_type": "code",
   "execution_count": 64,
   "metadata": {},
   "outputs": [
    {
     "name": "stdout",
     "output_type": "stream",
     "text": [
      "[-0.66397747]\n"
     ]
    },
    {
     "data": {
      "image/png": "[encoded data removed]",
      "text/plain": [
       "<Figure size 432x288 with 1 Axes>"
      ]
     },
     "metadata": {
      "needs_background": "light"
     },
     "output_type": "display_data"
    }
   ],
   "source": [
    "linew = LinearRegression()\n",
    "linew.fit(x_wpi.reshape(-1,1), y_wpi)\n",
    "#print(linew.predict(np.array([0.65]).reshape(-1,1)))\n",
    "print(linew.coef_)\n",
    "plt.plot(x_wpi.reshape(-1,1), y_wpi,'o')\n",
    "plt.plot(x_epi.reshape(-1,1), y_epi,'o')\n",
    "plt.plot(x_wpi.reshape(-1,1),linew.predict(x_wpi.reshape(-1,1)))\n",
    "plt.plot(x_epi,linee.predict(x_epi.reshape(-1,1)))\n",
    "plt.plot(x_tpi.reshape(-1,1), y_tpi,'o')\n",
    "plt.plot(x_tpi,linet.predict(x_tpi.reshape(-1,1)))\n",
    "plt.show()"
   ]
  },
  {
   "cell_type": "code",
   "execution_count": 31,
   "metadata": {},
   "outputs": [
    {
     "name": "stdout",
     "output_type": "stream",
     "text": [
      "[-0.61610119]\n"
     ]
    },
    {
     "data": {
      "image/png": "[encoded data removed]",
      "text/plain": [
       "<Figure size 432x288 with 1 Axes>"
      ]
     },
     "metadata": {
      "needs_background": "light"
     },
     "output_type": "display_data"
    }
   ],
   "source": [
    "linee = LinearRegression()\n",
    "linee.fit(x_epi.reshape(-1,1), y_epi)\n",
    "print(linee.coef_)\n",
    "plt.plot(x_epi.reshape(-1,1), y_epi,'o')\n",
    "plt.plot(x_epi,linee.predict(x_epi.reshape(-1,1)))\n",
    "plt.show()"
   ]
  },
  {
   "cell_type": "code",
   "execution_count": 32,
   "metadata": {},
   "outputs": [
    {
     "name": "stdout",
     "output_type": "stream",
     "text": [
      "[-0.37611025]\n"
     ]
    },
    {
     "data": {
      "image/png": "[encoded data removed]",
      "text/plain": [
       "<Figure size 432x288 with 1 Axes>"
      ]
     },
     "metadata": {
      "needs_background": "light"
     },
     "output_type": "display_data"
    }
   ],
   "source": [
    "linet = LinearRegression()\n",
    "linet.fit(x_tpi.reshape(-1,1), y_tpi)\n",
    "print(linet.coef_)\n",
    "plt.plot(x_tpi.reshape(-1,1), y_tpi,'o')\n",
    "plt.plot(x_tpi,linet.predict(x_tpi.reshape(-1,1)))\n",
    "plt.show()"
   ]
  },
  {
   "cell_type": "markdown",
   "metadata": {},
   "source": [
    "# Support Vector Machine (supervised)"
   ]
  },
  {
   "cell_type": "code",
   "execution_count": 106,
   "metadata": {},
   "outputs": [],
   "source": [
    "from sklearn import svm\n",
    "\n",
    "w = np.array(w_pi)\n",
    "e = np.array(e_pi)\n",
    "t = np.array(t_pi)\n",
    "value = np.concatenate((w,e,t), axis=0)\n",
    "#print(value)\n",
    "#print(value.shape)\n",
    "y1 = [0 for i in range(10)]\n",
    "y2 = [1 for i in range(10)]\n",
    "y3 = [2 for i in range(10)]\n",
    "Y = y1+y2+y3"
   ]
  },
  {
   "cell_type": "code",
   "execution_count": 211,
   "metadata": {},
   "outputs": [
    {
     "data": {
      "text/plain": [
       "SVC(C=3.0, break_ties=False, cache_size=200, class_weight=None, coef0=0.0,\n",
       "    decision_function_shape='ovr', degree=3, gamma=0.5, kernel='linear',\n",
       "    max_iter=-1, probability=False, random_state=None, shrinking=True,\n",
       "    tol=0.001, verbose=False)"
      ]
     },
     "execution_count": 211,
     "metadata": {},
     "output_type": "execute_result"
    }
   ],
   "source": [
    "model = svm.SVC(kernel='linear', C= 3.0, gamma = 0.5)\n",
    "model.fit(value,Y)\n",
    "#print(model.predict(np.array([0.74, 0.135]).reshape(1,-1)))"
   ]
  },
  {
   "cell_type": "code",
   "execution_count": 212,
   "metadata": {},
   "outputs": [
    {
     "name": "stdout",
     "output_type": "stream",
     "text": [
      "[[-3.85381018  4.75458635]\n",
      " [-1.59301994  3.76882059]\n",
      " [ 4.58933195 -3.61218561]] [ 2.24475233  0.2959055  -3.2998361 ]\n",
      "-1.716808632590396\n"
     ]
    }
   ],
   "source": [
    "print(model.coef_, model.intercept_)\n",
    "print(model.coef_[0,0] / model.intercept_[0])"
   ]
  },
  {
   "cell_type": "code",
   "execution_count": 213,
   "metadata": {},
   "outputs": [],
   "source": [
    "co1 = model.coef_[0]\n",
    "co2 = model.coef_[1]\n",
    "co3 = model.coef_[2]\n",
    "a1 = -co1[0] / co1[1]\n",
    "a2 = -co2[0] / co2[1]\n",
    "a3 = -co3[0] / co3[1]\n",
    "#print(a1)"
   ]
  },
  {
   "cell_type": "code",
   "execution_count": 214,
   "metadata": {},
   "outputs": [
    {
     "data": {
      "image/png": "[encoded data removed]",
      "text/plain": [
       "<Figure size 432x288 with 1 Axes>"
      ]
     },
     "metadata": {
      "needs_background": "light"
     },
     "output_type": "display_data"
    }
   ],
   "source": [
    "xx = np.linspace(0.6,0.9)\n",
    "yy1 = a1 * xx - model.intercept_[0] / co1[1]\n",
    "yy2 = a2 * xx - model.intercept_[1] / co2[1]\n",
    "#yy3 = a3 * xx - model.intercept_[2] / co3[1]\n",
    "h1 = plt.plot(xx, yy1)\n",
    "h2 = plt.plot(xx, yy2)\n",
    "#h3 = plt.plot(xx, yy3)\n",
    "plt.scatter(value[:,0], value[:, 1], c = Y)\n",
    "#ax.scatter(model.support_vectors_[:,0], model.support_vectors_[:,1], s=50)\n",
    "plt.show()"
   ]
  },
  {
   "cell_type": "code",
   "execution_count": null,
   "metadata": {},
   "outputs": [],
   "source": []
  }
 ],
 "metadata": {
  "kernelspec": {
   "display_name": "Python 3",
   "language": "python",
   "name": "python3"
  },
  "language_info": {
   "codemirror_mode": {
    "name": "ipython",
    "version": 3
   },
   "file_extension": ".py",
   "mimetype": "text/x-python",
   "name": "python",
   "nbconvert_exporter": "python",
   "pygments_lexer": "ipython3",
   "version": "3.6.9"
  }
 },
 "nbformat": 4,
 "nbformat_minor": 2
}
