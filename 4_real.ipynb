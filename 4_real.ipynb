{
 "cells": [
  {
   "cell_type": "code",
   "execution_count": 408,
   "metadata": {},
   "outputs": [],
   "source": [
    "import scipy.io as sio\n",
    "import matplotlib.pyplot as plt\n",
    "import numpy as np\n",
    "\n",
    "from pandas import read_csv\n",
    "import pandas as pd\n",
    "import statsmodels.api as sm\n",
    "from statsmodels.tsa.arima_model import ARIMA\n",
    "from math import sqrt\n",
    "from statsmodels.graphics.tsaplots import plot_acf, plot_pacf\n"
   ]
  },
  {
   "cell_type": "code",
   "execution_count": 409,
   "metadata": {},
   "outputs": [],
   "source": [
    "enf = sio.loadmat('./enf-add-final/ENFs_KDD.mat')\n",
    "value = enf['ENFs']\n",
    "name = []\n",
    "data = []\n",
    "for i in range(60):\n",
    "    lo = ''.join(value[i][0])\n",
    "    da = np.reshape(value[i][1],(600,1))\n",
    "    s = lo.split('/')[-1]\n",
    "    p = s.split('_')[1]\n",
    "    name.append(p)\n",
    "    data.append(da)\n",
    "data=np.array(data)\n",
    "val = data.reshape(60,600)"
   ]
  },
  {
   "cell_type": "code",
   "execution_count": 410,
   "metadata": {},
   "outputs": [
    {
     "name": "stdout",
     "output_type": "stream",
     "text": [
      "[array([0.89660172]), array([-0.16655433]), array([0.15332664]), array([0.80365086]), array([0.9222293]), array([0.00299373]), array([0.90943671]), array([0.9274681]), array([0.29552505]), array([0.88757355]), array([0.93667145]), array([0.88473413]), array([0.94152022]), array([0.91694996]), array([0.91766853]), array([0.91108294]), array([0.88660878]), array([0.90879009]), array([0.90765812]), array([0.88416782]), array([0.08171573]), array([-0.06427174]), array([0.9174074]), array([0.92007219]), array([0.93079865]), array([0.92049442]), array([0.92089175]), array([0.8808773]), array([0.88086089]), array([0.90758502]), array([0.7649698]), array([0.92783027]), array([0.92655932]), array([0.91412908]), array([0.20953395]), array([0.92086278]), array([0.90458223]), array([0.81176645]), array([0.91826255]), array([0.80564666]), array([0.84774501]), array([0.77149495]), array([0.83255795]), array([0.8129596]), array([0.82237379]), array([0.82044744]), array([0.83791331]), array([0.81786555]), array([0.84717551]), array([0.86434654]), array([0.84043239]), array([0.77746271]), array([0.87388643]), array([0.71692597]), array([0.80938584]), array([0.85440749]), array([0.8296173]), array([0.85496597]), array([0.79545841]), array([0.88164964])]\n",
      "[array([0.02388086]), array([0.39972079]), array([0.09101226]), array([-0.70236987]), array([0.35478534]), array([0.30544207]), array([0.15392327]), array([0.42734897]), array([-0.06431888]), array([-0.42701174]), array([0.10711763]), array([-0.33909504]), array([0.32813404]), array([-0.07192048]), array([-0.07257819]), array([-0.13297964]), array([-0.12820725]), array([-0.76938015]), array([-0.31390797]), array([-0.44140698]), array([-0.20978762]), array([-0.05952513]), array([-0.30251377]), array([-0.31927285]), array([-0.30747141]), array([-0.31800861]), array([-0.26446581]), array([-0.46002037]), array([-0.46010845]), array([-0.83025531]), array([-0.67333263]), array([0.0013025]), array([-0.57689228]), array([-0.33632027]), array([0.23434832]), array([-0.66404736]), array([-0.61595774]), array([-0.24365721]), array([-0.63960945]), array([-0.37581701]), array([-0.51600023]), array([-0.23323525]), array([-0.61766731]), array([-0.60534578]), array([-0.61148475]), array([-0.5951139]), array([-0.60664315]), array([-0.60743009]), array([-0.67448223]), array([-0.65676401]), array([-0.64357259]), array([-0.48777058]), array([-0.34695538]), array([-0.17316836]), array([-0.18709761]), array([-0.23752617]), array([-0.23680854]), array([-0.3084321]), array([-0.18133263]), array([-0.56447511])]\n"
     ]
    }
   ],
   "source": [
    "ar = []\n",
    "ma = []\n",
    "for i in range(60):\n",
    "    re = ARIMA(val[i], order=[1,0,1])\n",
    "    re_fit = re.fit()\n",
    "    r_ar = re_fit.arparams\n",
    "    r_ma = re_fit.maparams\n",
    "    ar.append(r_ar)\n",
    "    ma.append(r_ma)\n",
    "print(ar)\n",
    "print(ma)"
   ]
  },
  {
   "cell_type": "code",
   "execution_count": 117,
   "metadata": {},
   "outputs": [
    {
     "data": {
      "image/png": "[encoded data removed]",
      "text/plain": [
       "<Figure size 432x288 with 1 Axes>"
      ]
     },
     "metadata": {
      "needs_background": "light"
     },
     "output_type": "display_data"
    }
   ],
   "source": [
    "for i in range(60):\n",
    "    plt.scatter(ar,ma, s = 30, c = 'r')"
   ]
  },
  {
   "cell_type": "code",
   "execution_count": 119,
   "metadata": {},
   "outputs": [
    {
     "name": "stdout",
     "output_type": "stream",
     "text": [
      "['arizona', 'california', 'california', 'california', 'california', 'california', 'california', 'colorado', 'colorado', 'dc', 'florida', 'florida', 'florida', 'florida', 'florida', 'florida', 'hawaii', 'hawaii', 'illinois', 'illinois', 'illinois', 'illinois', 'louisiana', 'louisiana', 'louisiana', 'louisiana', 'louisiana', 'maryland', 'maryland', 'michigan', 'michigan', 'michigan', 'nebraska', 'nevada', 'newjersey', 'newjersey', 'newjersey', 'newmexico', 'newmexico', 'newyork', 'newyork', 'newyork', 'newyork', 'newyork', 'newyork', 'newyork', 'newyork', 'newyork', 'newyork', 'newyork', 'newyork', 'newyork', 'northcarolina', 'northdakota', 'pennsylvania', 'pennsylvania', 'pennsylvania', 'pennsylvania', 'pennsylvania', 'pennsylvania']\n",
      "hawaii\n"
     ]
    }
   ],
   "source": [
    "print(name)"
   ]
  },
  {
   "cell_type": "code",
   "execution_count": 134,
   "metadata": {},
   "outputs": [
    {
     "name": "stdout",
     "output_type": "stream",
     "text": [
      "nevada\n"
     ]
    }
   ],
   "source": [
    "print(name[33])"
   ]
  },
  {
   "cell_type": "code",
   "execution_count": 286,
   "metadata": {},
   "outputs": [
    {
     "name": "stdout",
     "output_type": "stream",
     "text": [
      "(600, 7)\n"
     ]
    }
   ],
   "source": [
    "west = np.vstack([val[0],val[7],val[8],val[9],val[33],val[37],val[38]])\n",
    "east = np.vstack([val[1],val[2],val[3],val[4],val[5],val[6],val[10],val[11],val[12],val[13],val[14],val[15],val[18],val[19],val[20],val[21],val[22],val[23],val[24],val[25],val[26],val[27],val[28],val[29],val[30],val[31],val[32],val[34],val[35],val[36],val[39],val[40],val[41],val[42],val[43],val[44],val[45],val[46],val[47],val[48],val[49],val[50],val[51],val[52],val[53],val[54],val[55],val[56],val[57],val[58],val[59]])\n",
    "hawa = np.vstack([val[16],val[17]])"
   ]
  },
  {
   "cell_type": "code",
   "execution_count": null,
   "metadata": {},
   "outputs": [],
   "source": []
  },
  {
   "cell_type": "code",
   "execution_count": 293,
   "metadata": {},
   "outputs": [
    {
     "name": "stdout",
     "output_type": "stream",
     "text": [
      "[120.20446777 120.08764648 120.08557129 120.19091797 120.18481445\n",
      " 119.97790527 120.28613281 120.28564453 120.19494629 120.19702148\n",
      " 120.19702148 120.20007324 120.18103027 120.20178223 120.1965332\n",
      " 120.16674805 120.17113615 120.17350012 120.17415104 120.19883908\n",
      " 120.18798828 120.20147895 120.20052497 120.20776367 120.18762207\n",
      " 120.19123286 120.19458008 120.18469238 120.20288086 120.21179199\n",
      " 120.19970703 120.19482422 120.21411133 120.22180176 120.18371582\n",
      " 120.18725586 120.18481445 120.15661621 120.15836374 120.18225098\n",
      " 120.15905322 120.16371736 120.1776123  120.18127441 120.15655487\n",
      " 120.16743517 120.17895508 120.19628906 120.16329322 120.18390189\n",
      " 120.21118164 120.18786621 120.18979588 120.1940918  120.18103027\n",
      " 120.17236328 120.18041992 120.17053223 120.17932129 120.19506836\n",
      " 120.17114258 120.16589355 120.14985095 120.13002145 120.13275927\n",
      " 120.19616699 120.12953124 120.16638184 120.10798339 120.1150609\n",
      " 120.12088544 120.12784534 120.1545513  120.15882986 120.14305433\n",
      " 120.12846308 120.13574219 120.12381958 120.1574707  120.16174316\n",
      " 120.14795647 120.15060186 120.15572012 120.17299965 120.17211914\n",
      " 120.17822266 120.17248535 120.15234375 120.15686035 120.1529541\n",
      " 120.18503677 120.18262164 120.1484375  120.16723633 120.15380859\n",
      " 120.16352191 120.17549489 120.20874023 120.19262695 120.14370942\n",
      " 120.14772776 120.15137797 120.15209961 120.18469238 120.19335938\n",
      " 120.18127441 120.18981934 120.19387684 120.19851704 120.21264648\n",
      " 120.20098928 120.1998291  120.17869163 120.16101074 120.16687012\n",
      " 120.19169431 120.20145583 120.18875465 120.17089844 120.20227051\n",
      " 120.1784668  120.16813455 120.15824374 120.15424969 120.15882805\n",
      " 120.1570854  120.14805552 120.20324707 120.13404052 120.1399067\n",
      " 120.13800572 120.13422915 120.16092575 120.1751709  120.17224121\n",
      " 120.15551758 120.16422072 120.18347168 120.17785645 120.16625977\n",
      " 120.16015625 120.14892578 120.1518381  120.14093438 120.13293457\n",
      " 120.17285156 120.1581671  120.14577828 120.13309077 120.14041679\n",
      " 120.12817383 120.15808105 120.17856335 120.18428946 120.17932129\n",
      " 120.16296387 120.18225098 120.1842041  120.15337033 120.19494629\n",
      " 120.16552734 120.155896   120.15846788 120.14846113 120.18261719\n",
      " 120.1932373  120.1498951  120.15216265 120.17907715 120.15881348\n",
      " 120.16124794 120.17453332 120.1773063  120.15344238 120.15771273\n",
      " 120.15100098 120.14748479 120.14175185 120.14648438 120.14684816\n",
      " 120.19216437 120.14945186 120.15771484 120.17358398 120.16542272\n",
      " 120.17295988 120.20031738 120.17609169 120.16063723 120.18289232\n",
      " 120.17895508 120.17114108 120.18587939 120.19384766 120.16271973\n",
      " 120.19824219 120.20141602 120.1875     120.21459961 120.17932129\n",
      " 120.20507812 120.15490723 120.1796875  120.17614746 120.17077637\n",
      " 120.16848916 120.13574219 120.16312449 120.18211809 120.14889512\n",
      " 120.15190029 120.15571895 120.15155988 120.13350362 120.14881825\n",
      " 120.1410955  120.15690589 120.14325365 120.13443647 120.13662445\n",
      " 120.14465449 120.15710798 120.1368215  120.14057471 120.14406713\n",
      " 120.14483388 120.14319625 120.16697766 120.14453125 120.15515137\n",
      " 120.15148926 120.13824175 120.13928223 120.13916016 120.17492676\n",
      " 120.15234375 120.14877388 120.15576172 120.18225098 120.16833496\n",
      " 120.17651367 120.15783691 120.1628418  120.15917969 120.19152832\n",
      " 120.16796875 120.15588379 120.17651367 120.18432617 120.17883301\n",
      " 120.17028809 120.15515137 120.16577148 120.16357422 120.17797852\n",
      " 120.17175293 120.17712402 120.15698242 120.15966797 120.16955566\n",
      " 120.17810059 120.14416504 120.12939453 120.15588379 120.16040039\n",
      " 120.16833496 120.18603516 120.17822266 120.14746094 120.14953613\n",
      " 120.1484375  120.18225098 120.16943359 120.15490723 120.13952637\n",
      " 120.1541748  120.15197754 120.15045487 120.16086635 120.16699219\n",
      " 120.13769531 120.15258789 120.16405608 120.15112305 120.16638184\n",
      " 120.17553711 120.1763916  120.17810059 120.19458008 120.17675781\n",
      " 120.19592285 120.18737793 120.16015625 120.16918945 120.15661621\n",
      " 120.16247559 120.15893555 120.17272949 120.1751709  120.17541504\n",
      " 120.18615723 120.17707905 120.17993164 120.1550293  120.14866\n",
      " 120.13661887 120.15136719 120.15063477 120.1661377  120.15441895\n",
      " 120.16992188 120.1817627  120.18261719 120.13964844 120.1484375\n",
      " 120.16723633 120.17712402 120.16223145 120.16168534 120.1529541\n",
      " 120.16601562 120.16601562 120.16369629 120.1595459  120.15551758\n",
      " 120.14538574 120.14810037 120.15211467 120.16009805 120.15003382\n",
      " 120.15500707 120.17213429 120.16824812 120.15063477 120.14440918\n",
      " 120.1504277  120.17224121 120.15307617 120.16760254 120.16662598\n",
      " 120.16442871 120.18994141 120.16687012 120.15966797 120.16601562\n",
      " 120.17407227 120.1730957  120.1751709  120.16674805 120.17028809\n",
      " 120.14990234 120.16760254 120.16064453 120.14025879 120.16223145\n",
      " 120.17200992 120.16687012 120.16052246 120.15527344 120.14624023\n",
      " 120.13525391 120.15234375 120.15075684 120.1583252  120.15112305\n",
      " 120.14611816 120.16126131 120.17602539 120.17700195 120.1628418\n",
      " 120.17602539 120.17932129 120.16955566 120.16503906 120.17016602\n",
      " 120.19555664 120.16845703 120.18481445 120.19091797 120.18017578\n",
      " 120.18444824 120.17346191 120.19140625 120.20092773 120.19812012\n",
      " 120.18164062 120.17175293 120.1697998  120.17285156 120.18554688\n",
      " 120.1953125  120.18615723 120.19311523 120.18481445 120.17797852\n",
      " 120.17980957 120.19824219 120.20336914 120.20605469 120.1862793\n",
      " 120.16967773 120.17614746 120.21044922 120.22167969 120.19458008\n",
      " 120.19628906 120.19165039 120.21183697 120.21350098 120.17602539\n",
      " 120.18664551 120.18066406 120.18920898 120.19152832 120.19848633\n",
      " 120.19372559 120.19787598 120.19580078 120.18981934 120.18823242\n",
      " 120.20336914 120.19885254 120.21496582 120.20428788 120.19567871\n",
      " 120.18676758 120.1998291  120.20739746 120.22290039 120.16430664\n",
      " 120.18811035 120.20410156 120.18945312 120.18383789 120.18078613\n",
      " 120.20080566 120.1739245  120.1666696  120.18239326 120.21582031\n",
      " 120.19042969 120.19726562 120.16577148 120.17385382 120.16821289\n",
      " 120.16992188 120.1673584  120.17077637 120.18212891 120.1829834\n",
      " 120.19177246 120.17224121 120.17858887 120.18054199 120.16137695\n",
      " 120.16882324 120.16503906 120.17869809 120.17358398 120.17944336\n",
      " 120.17480469 120.18554688 120.1796875  120.20117188 120.18835449\n",
      " 120.17736816 120.1940918  120.17749023 120.18713379 120.20178223\n",
      " 120.1862793  120.18945312 120.16271973 120.17541504 120.16467285\n",
      " 120.18237305 120.20396022 120.20043945 120.19641113 120.20532227\n",
      " 120.19104004 120.20043945 120.20727539 120.20141602 120.2054369\n",
      " 120.20815418 120.21402227 120.20922852 120.20564993 120.21728516\n",
      " 120.20457759 120.1825371  120.2044927  120.20752007 120.1882655\n",
      " 120.20015176 120.20678711 120.20825195 120.19213867 120.19494629\n",
      " 120.171875   120.17148388 120.19067383 120.1953125  120.19177246\n",
      " 120.18823242 120.1973877  120.17834473 120.14941406 120.17504883\n",
      " 120.15881348 120.16186523 120.17553711 120.19421387 120.18981934\n",
      " 120.17651367 120.18164062 120.19030762 120.15917969 120.16320801\n",
      " 120.17456055 120.18798828 120.19470215 120.18371582 120.16479492\n",
      " 120.16027832 120.16882324 120.15515137 120.16479492 120.16040039\n",
      " 120.18200684 120.18444824 120.18029785 120.18798828 120.1550293\n",
      " 120.16271973 120.17797852 120.18444824 120.18762207 120.17590332\n",
      " 120.17358398 120.16796875 120.1583252  120.1628418  120.15844727\n",
      " 120.18322754 120.20043945 120.17739386 120.18652344 120.18505859\n",
      " 120.15393066 120.15637207 120.16748047 120.16235352 120.17004395\n",
      " 120.18737793 120.17822266 120.17016602 120.17028809 120.1628418\n",
      " 120.17211914 120.16906738 120.16479492 120.1862793  120.18017578\n",
      " 120.17504883 120.16809082 120.18505859 120.18395996 120.18798828\n",
      " 120.17687988 120.17260742 120.17456055 120.15917969 120.17028809\n",
      " 120.19360352 120.16894531 120.14648438 120.13867188 120.1776123\n",
      " 120.17504883 120.17541504 120.21081543 120.18566895 120.19091797\n",
      " 120.20275879 120.19238281 120.17883301 120.15966797 120.16088867\n",
      " 120.15588379 120.17797852 120.13659668 120.1661377  120.16333008\n",
      " 120.16430664 120.17749023 120.18615723 120.15649414 120.16052246]\n",
      "(2, 600)\n",
      "(1200,)\n"
     ]
    }
   ],
   "source": [
    "test= val[16]+val[17]\n",
    "test2 = np.vstack([val[16],val[17]])\n",
    "test3 = test2.flatten()\n",
    "print(test)\n",
    "print(test2.shape)\n",
    "print(test3.shape)"
   ]
  },
  {
   "cell_type": "code",
   "execution_count": 411,
   "metadata": {},
   "outputs": [
    {
     "name": "stdout",
     "output_type": "stream",
     "text": [
      "[array([0.91072936]), array([0.89683567]), array([0.97614357]), array([0.29038562]), array([0.90670362]), array([0.98532466]), array([0.9088204]), array([0.79758092]), array([0.90790047]), array([0.87453251])]\n",
      "[array([0.00788302]), array([0.1937193]), array([0.05000453]), array([-0.04079165]), array([-0.33909525]), array([-0.62706589]), array([-0.35163868]), array([-0.24365521]), array([-0.48622272]), array([-0.57095757])]\n"
     ]
    }
   ],
   "source": [
    "western = np.vstack([val[0],val[7],val[8],val[9],val[33],val[37],val[38]])\n",
    "west = western.flatten()\n",
    "n = len(west)\n",
    "m = int(n/10)\n",
    "war = []\n",
    "wma = []\n",
    "for i in range(10):\n",
    "    data = west[:m]\n",
    "    re = ARIMA(data, order=[1,0,1])\n",
    "    re_fit = re.fit()\n",
    "    r_ar = re_fit.arparams\n",
    "    r_ma = re_fit.maparams\n",
    "    war.append(r_ar)\n",
    "    wma.append(r_ma)\n",
    "    west = west[m:]\n",
    "print(war)\n",
    "print(wma)"
   ]
  },
  {
   "cell_type": "code",
   "execution_count": 412,
   "metadata": {},
   "outputs": [
    {
     "name": "stdout",
     "output_type": "stream",
     "text": [
      "[array([], dtype=float64), array([], dtype=float64), array([], dtype=float64), array([], dtype=float64), array([], dtype=float64), array([], dtype=float64), array([], dtype=float64), array([], dtype=float64), array([], dtype=float64), array([], dtype=float64)]\n",
      "[array([0.57178763, 0.58116828]), array([0.95381294, 0.5290208 ]), array([1.00502684, 0.36758563]), array([0.85770026, 0.4342431 ]), array([0.65020978, 0.28110247]), array([0.57493375, 0.29963999]), array([0.75424147, 0.64404182]), array([0.92622977, 0.32724366]), array([0.74178655, 0.34114779]), array([0.29403898, 0.50214361])]\n"
     ]
    }
   ],
   "source": [
    "eastern = val[1]+val[2]+val[3]+val[4]+val[5]+val[6]+val[10]+val[11]+val[12]+val[13]+val[14]+val[15]+val[18]+val[19]+val[20]+val[21]+val[22]+val[23]+val[24]+val[25]+val[26]+val[27]+val[28]+val[29]+val[30]+val[31]+val[32]+val[34]+val[35]+val[36]+val[39]+val[40]+val[41]+val[42]+val[43]+val[44]+val[45]+val[46]+val[47]+val[48]+val[49]+val[50]+val[51]+val[52]+val[53]+val[54]+val[55]+val[56]+val[57]+val[58]+val[59]\n",
    "east = eastern.flatten()\n",
    "n = len(east)\n",
    "m = int(n/10)\n",
    "ear = []\n",
    "ema = []\n",
    "for i in range(10):\n",
    "    data = east[:m]\n",
    "    re = ARIMA(data, order=[0,0,2])\n",
    "    re_fit = re.fit()\n",
    "    r_ar = re_fit.arparams\n",
    "    r_ma = re_fit.maparams\n",
    "    ear.append(r_ar)\n",
    "    ema.append(r_ma)\n",
    "    east = east[m:]\n",
    "print(ear)\n",
    "print(ema)"
   ]
  },
  {
   "cell_type": "code",
   "execution_count": 413,
   "metadata": {},
   "outputs": [
    {
     "name": "stdout",
     "output_type": "stream",
     "text": [
      "[array([], dtype=float64), array([], dtype=float64), array([], dtype=float64), array([], dtype=float64), array([], dtype=float64), array([], dtype=float64), array([], dtype=float64), array([], dtype=float64), array([], dtype=float64), array([], dtype=float64)]\n",
      "[array([ 0.13959082, -0.21377462]), array([0.48794718, 0.40966183]), array([0.30703358, 0.02137873]), array([0.34755281, 0.23866604]), array([0.46887722, 0.11287756]), array([0.44934854, 0.13202163]), array([0.71416373, 0.41454372]), array([0.37382317, 0.21731595]), array([0.71148137, 0.22131907]), array([0.40020441, 0.04319132])]\n"
     ]
    }
   ],
   "source": [
    "hawaii = val[16]+val[17]\n",
    "hawa = hawaii.flatten()\n",
    "n = len(hawa)\n",
    "m = int(n/10)\n",
    "har = []\n",
    "hma = []\n",
    "for i in range(10):\n",
    "    data = hawa[:m]\n",
    "    re = ARIMA(data, order=[0,0,2])\n",
    "    re_fit = re.fit()\n",
    "    r_ar = re_fit.arparams\n",
    "    r_ma = re_fit.maparams\n",
    "    har.append(r_ar)\n",
    "    hma.append(r_ma)\n",
    "    hawa = hawa[m:]\n",
    "print(har)\n",
    "print(hma)"
   ]
  },
  {
   "cell_type": "code",
   "execution_count": 300,
   "metadata": {},
   "outputs": [
    {
     "data": {
      "image/png": "[encoded data removed]",
      "text/plain": [
       "<Figure size 432x288 with 1 Axes>"
      ]
     },
     "metadata": {
      "needs_background": "light"
     },
     "output_type": "display_data"
    }
   ],
   "source": [
    "for i in range(10):\n",
    "    plt.scatter(ema[i][0],y = ema[i][1], s = 30, c = 'g')\n",
    "    plt.scatter(hma[i][0],y = hma[i][1], s = 30, c = 'b')"
   ]
  },
  {
   "cell_type": "code",
   "execution_count": 298,
   "metadata": {},
   "outputs": [
    {
     "data": {
      "image/png": "[encoded data removed]",
      "text/plain": [
       "<Figure size 432x288 with 1 Axes>"
      ]
     },
     "metadata": {
      "needs_background": "light"
     },
     "output_type": "display_data"
    }
   ],
   "source": [
    "for i in range(10):\n",
    "    plt.scatter(war,y = wma, s = 30, c = 'r')"
   ]
  },
  {
   "cell_type": "code",
   "execution_count": 301,
   "metadata": {},
   "outputs": [
    {
     "data": {
      "image/png": "[encoded data removed]",
      "text/plain": [
       "<Figure size 432x288 with 1 Axes>"
      ]
     },
     "metadata": {
      "needs_background": "light"
     },
     "output_type": "display_data"
    }
   ],
   "source": [
    "for i in range(10):\n",
    "    plt.scatter(war,y = wma, s = 30, c = 'r')\n",
    "    plt.scatter(ema[i][0],y = ema[i][1], s = 30, c = 'g')\n",
    "    plt.scatter(hma[i][0],y = hma[i][1], s = 30, c = 'b')"
   ]
  },
  {
   "cell_type": "code",
   "execution_count": 414,
   "metadata": {},
   "outputs": [],
   "source": [
    "from sklearn import svm\n",
    "west = []\n",
    "for i in range(10):\n",
    "    west.append(war[i])\n",
    "    west.append(wma[i])\n",
    "west = np.array(west)\n",
    "w_data = np.reshape(west, (10,2))"
   ]
  },
  {
   "cell_type": "code",
   "execution_count": 307,
   "metadata": {},
   "outputs": [
    {
     "ename": "SyntaxError",
     "evalue": "invalid syntax (<ipython-input-307-ad3c4867c213>, line 1)",
     "output_type": "error",
     "traceback": [
      "\u001b[0;36m  File \u001b[0;32m\"<ipython-input-307-ad3c4867c213>\"\u001b[0;36m, line \u001b[0;32m1\u001b[0m\n\u001b[0;31m    from sklearn import svmwest = []\u001b[0m\n\u001b[0m                                ^\u001b[0m\n\u001b[0;31mSyntaxError\u001b[0m\u001b[0;31m:\u001b[0m invalid syntax\n"
     ]
    }
   ],
   "source": [
    "from sklearn import svm\n",
    "west = []\n",
    "for i in range(10):\n",
    "    west.append(war[i])\n",
    "    west.append(wma[i])\n",
    "w_data = np.array(west)\n",
    "w_data = np.reshape(west, (10,2))\n",
    "e = np.array(ema)\n",
    "h = np.array(hma)\n",
    "#e_data = np.reshape(e, (20,1))\n",
    "#h_data = np.reshape(h, (20,1))\n",
    "#result = w_data+e+h\n",
    "result = np.vstack([w_data ,e,h])"
   ]
  },
  {
   "cell_type": "code",
   "execution_count": 415,
   "metadata": {},
   "outputs": [
    {
     "name": "stdout",
     "output_type": "stream",
     "text": [
      "30\n"
     ]
    },
    {
     "data": {
      "text/plain": [
       "SVC(C=3.0, gamma=0.5, kernel='linear')"
      ]
     },
     "execution_count": 415,
     "metadata": {},
     "output_type": "execute_result"
    }
   ],
   "source": [
    "y1 = [0 for i in range(10)]\n",
    "y2 = [1 for i in range(10)]\n",
    "y3 = [2 for i in range(10)]\n",
    "Y = y1+y2+y3\n",
    "print(len(Y))\n",
    "model = svm.SVC(kernel='linear', C= 3.0, gamma = 0.5)\n",
    "model.fit(result,Y)"
   ]
  },
  {
   "cell_type": "code",
   "execution_count": 259,
   "metadata": {},
   "outputs": [
    {
     "data": {
      "text/plain": [
       "array([ 0.69006319, -0.12809773])"
      ]
     },
     "execution_count": 259,
     "metadata": {},
     "output_type": "execute_result"
    }
   ],
   "source": [
    "w_data[0]"
   ]
  },
  {
   "cell_type": "code",
   "execution_count": 306,
   "metadata": {},
   "outputs": [
    {
     "name": "stdout",
     "output_type": "stream",
     "text": [
      "0.7\n",
      "0.7\n",
      "0.9\n"
     ]
    }
   ],
   "source": [
    "#model.predict(np.array([0.74, 0.135]).reshape(1,-1))\n",
    "predict1 = model.predict(w_data)\n",
    "predict2 = model.predict(e)\n",
    "predict3 = model.predict(h)\n",
    "import sklearn\n",
    "print(sklearn.metrics.accuracy_score(y1,predict1,normalize=True,sample_weight=None))\n",
    "print(sklearn.metrics.accuracy_score(y2,predict2,normalize=True,sample_weight=None))\n",
    "print(sklearn.metrics.accuracy_score(y3,predict3,normalize=True,sample_weight=None))"
   ]
  },
  {
   "cell_type": "code",
   "execution_count": 311,
   "metadata": {},
   "outputs": [],
   "source": [
    "enf = sio.loadmat('./enf-add-final/ENFs_KDD.mat')\n",
    "value = enf['ENFs']\n",
    "name = []\n",
    "data = []\n",
    "for i in range(60):\n",
    "    lo = ''.join(value[i][0])\n",
    "    da = np.reshape(value[i][1],(600,1))\n",
    "    s = lo.split('/')[-1]\n",
    "    p = s.split('_')[1]\n",
    "    name.append(p)\n",
    "    data.append(da)\n",
    "data=np.array(data)\n",
    "val = data.reshape(60,600)"
   ]
  },
  {
   "cell_type": "code",
   "execution_count": 324,
   "metadata": {},
   "outputs": [
    {
     "name": "stdout",
     "output_type": "stream",
     "text": [
      "4200\n"
     ]
    }
   ],
   "source": [
    "western = np.vstack([val[0],val[7],val[8],val[9],val[33],val[37],val[38]])\n",
    "west = western.flatten()\n",
    "n = len(west)\n",
    "print(n)"
   ]
  },
  {
   "cell_type": "code",
   "execution_count": 373,
   "metadata": {},
   "outputs": [
    {
     "name": "stdout",
     "output_type": "stream",
     "text": [
      "[array([0.9057663]), array([0.99104931]), array([0.97159304]), array([0.8696264]), array([0.94369796])]\n",
      "[array([0.08180042]), array([-0.32351989]), array([-0.508627]), array([-0.31336269]), array([-0.5862129])]\n"
     ]
    }
   ],
   "source": [
    "western = np.vstack([val[0],val[7],val[8],val[9],val[33],val[37],val[38]])\n",
    "west = western.flatten()\n",
    "n = len(west)\n",
    "m = int(n/5)\n",
    "war = []\n",
    "wma = []\n",
    "for i in range(5):\n",
    "    data = west[:m]\n",
    "    re = ARIMA(data, order=[1,0,1])\n",
    "    re_fit = re.fit()\n",
    "    r_ar = re_fit.arparams\n",
    "    r_ma = re_fit.maparams\n",
    "    war.append(r_ar)\n",
    "    wma.append(r_ma)\n",
    "    west = west[m:]\n",
    "print(war)\n",
    "print(wma)"
   ]
  },
  {
   "cell_type": "code",
   "execution_count": 319,
   "metadata": {},
   "outputs": [
    {
     "name": "stdout",
     "output_type": "stream",
     "text": [
      "[array([0.59187152]), array([0.86551415]), array([0.87858513]), array([0.80501469]), array([0.67724592]), array([0.68464361]), array([0.78922386]), array([0.70926589]), array([0.87694726]), array([0.79752656]), array([0.63416651]), array([0.91518971]), array([0.8430223]), array([0.21866457]), array([0.52279107])]\n",
      "[array([0.26827432]), array([0.2717711]), array([0.22985734]), array([0.23164224]), array([0.52794821]), array([-0.32202331]), array([0.23536896]), array([-0.04796763]), array([0.19193298]), array([0.04635481]), array([0.39947863]), array([0.00717173]), array([0.01080238]), array([0.51966275]), array([0.13015692])]\n"
     ]
    }
   ],
   "source": [
    "western = np.vstack([val[0],val[7],val[8],val[9],val[33],val[37],val[38]])\n",
    "west = western.flatten()\n",
    "n = len(west)\n",
    "m = int(n/100)\n",
    "war = []\n",
    "wma = []\n",
    "for i in range(100):\n",
    "    try:\n",
    "        data = west[:m]\n",
    "        re = ARIMA(data, order=[1,0,1])\n",
    "        re_fit = re.fit()\n",
    "        r_ar = re_fit.arparams\n",
    "        r_ma = re_fit.maparams\n",
    "        war.append(r_ar)\n",
    "        wma.append(r_ma)\n",
    "        west = west[m:]\n",
    "    except:\n",
    "        pass\n",
    "print(war)\n",
    "print(wma)"
   ]
  },
  {
   "cell_type": "code",
   "execution_count": 335,
   "metadata": {},
   "outputs": [
    {
     "data": {
      "text/plain": [
       "100"
      ]
     },
     "execution_count": 335,
     "metadata": {},
     "output_type": "execute_result"
    }
   ],
   "source": [
    "len(war)"
   ]
  },
  {
   "cell_type": "code",
   "execution_count": 375,
   "metadata": {},
   "outputs": [
    {
     "name": "stdout",
     "output_type": "stream",
     "text": [
      "[array([0.94527823]), array([0.94786437]), array([0.9612732]), array([0.95416036]), array([0.89864235])]\n",
      "[array([-0.36106306]), array([-0.226795]), array([-0.40377538]), array([-0.27730044]), array([-0.33153685])]\n"
     ]
    }
   ],
   "source": [
    "eastern = val[1]+val[2]+val[3]+val[4]+val[5]+val[6]+val[10]+val[11]+val[12]+val[13]+val[14]+val[15]+val[18]+val[19]+val[20]+val[21]+val[22]+val[23]+val[24]+val[25]+val[26]+val[27]+val[28]+val[29]+val[30]+val[31]+val[32]+val[34]+val[35]+val[36]+val[39]+val[40]+val[41]+val[42]+val[43]+val[44]+val[45]+val[46]+val[47]+val[48]+val[49]+val[50]+val[51]+val[52]+val[53]+val[54]+val[55]+val[56]+val[57]+val[58]+val[59]\n",
    "east = eastern.flatten()\n",
    "n = len(east)\n",
    "m = int(n/5)\n",
    "ear = []\n",
    "ema = []\n",
    "for i in range(5):\n",
    "    data = east[:m]\n",
    "    re = ARIMA(data, order=[1,0,1])\n",
    "    re_fit = re.fit()\n",
    "    r_ar = re_fit.arparams\n",
    "    r_ma = re_fit.maparams\n",
    "    ear.append(r_ar)\n",
    "    ema.append(r_ma)\n",
    "    east = east[m:]\n",
    "print(ear)\n",
    "print(ema)"
   ]
  },
  {
   "cell_type": "code",
   "execution_count": 377,
   "metadata": {},
   "outputs": [
    {
     "name": "stdout",
     "output_type": "stream",
     "text": [
      "[array([-0.26486337]), array([0.87379186]), array([0.25025908]), array([0.92094842]), array([0.69950822])]\n",
      "[array([0.55368003]), array([-0.59877286]), array([0.20778983]), array([-0.57394787]), array([-0.13045241])]\n"
     ]
    }
   ],
   "source": [
    "hawaii = val[16]+val[17]\n",
    "hawa = hawaii.flatten()\n",
    "n = len(hawa)\n",
    "m = int(n/5)\n",
    "har = []\n",
    "hma = []\n",
    "for i in range(5):\n",
    "    data = hawa[:m]\n",
    "    re = ARIMA(data, order=[1,0,1])\n",
    "    re_fit = re.fit()\n",
    "    r_ar = re_fit.arparams\n",
    "    r_ma = re_fit.maparams\n",
    "    har.append(r_ar)\n",
    "    hma.append(r_ma)\n",
    "    hawa = hawa[m:]\n",
    "print(har)\n",
    "print(hma)"
   ]
  },
  {
   "cell_type": "code",
   "execution_count": 378,
   "metadata": {},
   "outputs": [
    {
     "data": {
      "image/png": "[encoded data removed]",
      "text/plain": [
       "<Figure size 432x288 with 1 Axes>"
      ]
     },
     "metadata": {
      "needs_background": "light"
     },
     "output_type": "display_data"
    }
   ],
   "source": [
    "for i in range(10):\n",
    "    plt.scatter(war,y = wma, s = 30, c = 'r')\n",
    "    plt.scatter(ear,y = ema, s = 30, c = 'g')\n",
    "    plt.scatter(har,y = hma, s = 30, c = 'b')"
   ]
  },
  {
   "cell_type": "code",
   "execution_count": 416,
   "metadata": {},
   "outputs": [
    {
     "name": "stdout",
     "output_type": "stream",
     "text": [
      "30\n",
      "0.8\n",
      "0.7\n",
      "0.9\n"
     ]
    }
   ],
   "source": [
    "from sklearn import svm\n",
    "west = []\n",
    "for i in range(10):\n",
    "    west.append(war[i])\n",
    "    west.append(wma[i])\n",
    "w_data = np.array(west)\n",
    "w_data = np.reshape(west, (10,2))\n",
    "e = np.array(ema)\n",
    "h = np.array(hma)\n",
    "#e_data = np.reshape(e, (20,1))\n",
    "#h_data = np.reshape(h, (20,1))\n",
    "#result = w_data+e+h\n",
    "result = np.vstack([w_data ,e,h])\n",
    "y1 = [0 for i in range(10)]\n",
    "y2 = [1 for i in range(10)]\n",
    "y3 = [2 for i in range(10)]\n",
    "Y = y1+y2+y3\n",
    "print(len(Y))\n",
    "model = svm.SVC(kernel='linear', C= 3.0, gamma = 0.5)\n",
    "model.fit(result,Y)\n",
    "predict1 = model.predict(w_data)\n",
    "predict2 = model.predict(e)\n",
    "predict3 = model.predict(h)\n",
    "import sklearn\n",
    "print(sklearn.metrics.accuracy_score(y1,predict1,normalize=True,sample_weight=None))\n",
    "print(sklearn.metrics.accuracy_score(y2,predict2,normalize=True,sample_weight=None))\n",
    "print(sklearn.metrics.accuracy_score(y3,predict3,normalize=True,sample_weight=None))"
   ]
  },
  {
   "cell_type": "code",
   "execution_count": 428,
   "metadata": {},
   "outputs": [
    {
     "name": "stdout",
     "output_type": "stream",
     "text": [
      "0.75\n",
      "0.75\n",
      "0.85\n"
     ]
    }
   ],
   "source": [
    "from sklearn.neighbors import KNeighborsClassifier\n",
    "classifier = KNeighborsClassifier(n_neighbors=3)\n",
    "con = np.reshape(result,(-1, 1))\n",
    "Y1 = [0 for i in range(20)]\n",
    "Y2 = [1 for i in range(20)]\n",
    "Y3 = [2 for i in range(20)]\n",
    "YY = y1+y2+y3\n",
    "classifier.fit(con, YY)\n",
    "unknown1 = np.reshape(w_data,(-1, 1))\n",
    "unknown2 = np.reshape(e,(-1, 1))\n",
    "unknown3 = np.reshape(h,(-1, 1))\n",
    "guesses1 = classifier.predict(unknown1)\n",
    "guesses2 = classifier.predict(unknown2)\n",
    "guesses3 = classifier.predict(unknown3)\n",
    "import sklearn\n",
    "print(sklearn.metrics.accuracy_score(Y1,guesses1,normalize=True,sample_weight=None))\n",
    "print(sklearn.metrics.accuracy_score(Y2,guesses2,normalize=True,sample_weight=None))\n",
    "print(sklearn.metrics.accuracy_score(Y3,guesses3,normalize=True,sample_weight=None))"
   ]
  },
  {
   "cell_type": "code",
   "execution_count": 148,
   "metadata": {},
   "outputs": [
    {
     "data": {
      "image/png": "[encoded data removed]",
      "text/plain": [
       "<Figure size 432x288 with 1 Axes>"
      ]
     },
     "metadata": {
      "needs_background": "light"
     },
     "output_type": "display_data"
    },
    {
     "data": {
      "image/png": "[encoded data removed]",
      "text/plain": [
       "<Figure size 432x288 with 1 Axes>"
      ]
     },
     "metadata": {
      "needs_background": "light"
     },
     "output_type": "display_data"
    },
    {
     "data": {
      "image/png": "[encoded data removed]",
      "text/plain": [
       "<Figure size 432x288 with 1 Axes>"
      ]
     },
     "metadata": {
      "needs_background": "light"
     },
     "output_type": "display_data"
    }
   ],
   "source": [
    "hawa = val[16]+val[17]\n",
    "plot_acf(hawa)\n",
    "plot_pacf(hawa)\n",
    "plt.show()\n",
    "\n",
    "plt.plot(hawa)\n",
    "plt.show()"
   ]
  },
  {
   "cell_type": "code",
   "execution_count": 420,
   "metadata": {},
   "outputs": [
    {
     "name": "stdout",
     "output_type": "stream",
     "text": [
      "(60, 1)\n"
     ]
    },
    {
     "ename": "AttributeError",
     "evalue": "'list' object has no attribute 'shape'",
     "output_type": "error",
     "traceback": [
      "\u001b[0;31m---------------------------------------------------------------------------\u001b[0m",
      "\u001b[0;31mAttributeError\u001b[0m                            Traceback (most recent call last)",
      "\u001b[0;32m<ipython-input-420-99d65f152bcd>\u001b[0m in \u001b[0;36m<module>\u001b[0;34m\u001b[0m\n\u001b[1;32m      1\u001b[0m \u001b[0mprint\u001b[0m\u001b[0;34m(\u001b[0m\u001b[0mcon\u001b[0m\u001b[0;34m.\u001b[0m\u001b[0mshape\u001b[0m\u001b[0;34m)\u001b[0m\u001b[0;34m\u001b[0m\u001b[0;34m\u001b[0m\u001b[0m\n\u001b[0;32m----> 2\u001b[0;31m \u001b[0mprint\u001b[0m\u001b[0;34m(\u001b[0m\u001b[0mtraining_labels\u001b[0m\u001b[0;34m.\u001b[0m\u001b[0mshape\u001b[0m\u001b[0;34m)\u001b[0m\u001b[0;34m\u001b[0m\u001b[0;34m\u001b[0m\u001b[0m\n\u001b[0m",
      "\u001b[0;31mAttributeError\u001b[0m: 'list' object has no attribute 'shape'"
     ]
    }
   ],
   "source": [
    "print(con.shape)\n",
    "print(training_labels.shape)"
   ]
  },
  {
   "cell_type": "code",
   "execution_count": 423,
   "metadata": {},
   "outputs": [],
   "source": [
    "from sklearn.neighbors import KNeighborsClassifier\n",
    "classifier = KNeighborsClassifier(n_neighbors=3)\n",
    "con = np.reshape(result,(-1, 1))\n",
    "classifier.fit(con, Y*2)\n",
    "unknown = np.reshape(w_data,(-1, 1))\n",
    "guesses = classifier.predict(unknown)"
   ]
  },
  {
   "cell_type": "code",
   "execution_count": 426,
   "metadata": {},
   "outputs": [
    {
     "name": "stdout",
     "output_type": "stream",
     "text": [
      "[0 2 0 2 0 2 1 0 0 0 0 0 0 0 1 0 0 0 0 0]\n"
     ]
    }
   ],
   "source": [
    "print(guesses)"
   ]
  },
  {
   "cell_type": "code",
   "execution_count": 388,
   "metadata": {},
   "outputs": [],
   "source": [
    "from sklearn.mixture import GaussianMixture\n",
    "#train_data, test_data, train_label, test_label =  train_test_split(total_data, total_label, test_size=0.30, random_state=42)\n",
    "\n",
    "classifier = GaussianMixture(n_components = 1,covariance_type='diag',max_iter=100,random_state = 42,tol=0.1,n_init = 1)\n",
    "\n",
    "classifier.means_init = np.array([w_data[y1].mean(axis=0)]) \n",
    "classifier.fit(w_data)\n",
    "\n",
    "pred_lab_train = classifier.predict(w_data)\n",
    "#train_accuracy = np.mean(pred_lab_train.ravel() == train_label.ravel())*100\n",
    "\n",
    "pred_lab_test = classifier.predict(w_data)\n",
    "#test_accuracy = np.mean(pred_lab_test.ravel()==test_label.ravel())*100"
   ]
  },
  {
   "cell_type": "code",
   "execution_count": 367,
   "metadata": {},
   "outputs": [],
   "source": [
    "from sklearn.mixture import GaussianMixture\n",
    "#train_data, test_data, train_label, test_label =  train_test_split(total_data, total_label, test_size=0.30, random_state=42)\n",
    "\n",
    "classifier = GaussianMixture(n_components = 1,covariance_type='diag',max_iter=100,random_state = 42,tol=0.1,n_init = 1)\n",
    "\n",
    "classifier.means_init = np.array([e[y2].mean(axis=0)]) \n",
    "classifier.fit(e)\n",
    "\n",
    "pred_lab_train = classifier.predict(e)\n",
    "#train_accuracy = np.mean(pred_lab_train.ravel() == train_label.ravel())*100\n",
    "\n",
    "pred_lab_test = classifier.predict(e)\n",
    "#test_accuracy = np.mean(pred_lab_test.ravel()==test_label.ravel())*100"
   ]
  },
  {
   "cell_type": "code",
   "execution_count": 368,
   "metadata": {},
   "outputs": [
    {
     "data": {
      "text/plain": [
       "array([0, 0, 0, 0, 0, 0, 0, 0, 0, 0])"
      ]
     },
     "execution_count": 368,
     "metadata": {},
     "output_type": "execute_result"
    }
   ],
   "source": [
    "pred_lab_train"
   ]
  },
  {
   "cell_type": "code",
   "execution_count": 5,
   "metadata": {},
   "outputs": [],
   "source": [
    "t1 = sio.loadmat('../data_20180428/[Texas]1.mat')\n",
    "tv1 = t1['VALUE']\n",
    "t2 = sio.loadmat('../data_20180428/[Texas]2.mat')\n",
    "tv2 = t2['VALUE']\n",
    "texas = np.vstack([tv1 ,tv2])\n",
    "\n",
    "t_ar = []\n",
    "t_ma = []\n",
    "n = len(texas)\n",
    "m = int(n/10)\n",
    "for i in range(10):\n",
    "    data = texas[:m]\n",
    "    t = ARIMA(data, order=[1,0,1])\n",
    "    t_fit = t.fit()\n",
    "    tar = t_fit.arparams\n",
    "    tma = t_fit.maparams\n",
    "    t_ar.append(tar)\n",
    "    t_ma.append(tma)\n",
    "    texas = texas[m:]"
   ]
  },
  {
   "cell_type": "code",
   "execution_count": 6,
   "metadata": {},
   "outputs": [
    {
     "name": "stdout",
     "output_type": "stream",
     "text": [
      "[array([0.8892855]), array([0.89477078]), array([0.90237842]), array([0.89168537]), array([0.89693221]), array([0.88991727]), array([0.89440865]), array([0.90179364]), array([0.89267059]), array([0.89445696])]\n",
      "[array([-0.18769771]), array([-0.20266868]), array([-0.17728538]), array([-0.1382874]), array([-0.18356293]), array([-0.18885411]), array([-0.20344065]), array([-0.17560624]), array([-0.1383556]), array([-0.17318224])]\n"
     ]
    }
   ],
   "source": [
    "print(t_ar)\n",
    "print(t_ma)"
   ]
  },
  {
   "cell_type": "code",
   "execution_count": null,
   "metadata": {},
   "outputs": [],
   "source": [
    "westall = np.empty\n",
    "for i in range(1,20):\n",
    "    w = sio.loadmat('../data_20180428/[West]'+repr(i)+'.mat')\n",
    "    wv = w['VALUE']\n",
    "    westall = np.append(westall ,wv)\n",
    "westall = np.delete(westall, [0, 0], axis=0)\n",
    "westall=np.expand_dims(westall, axis=1)\n",
    "\n",
    "w_ar = []\n",
    "w_ma = []\n",
    "n = len(westall)\n",
    "m = int(n/10)\n",
    "for i in range(10):\n",
    "    data = westall[:m]\n",
    "    we = ARIMA(data, order=[1,0,1])\n",
    "    w_fit = we.fit()\n",
    "    war = w_fit.arparams\n",
    "    wma = w_fit.maparams\n",
    "    w_ar.append(war)\n",
    "    w_ma.append(wma)\n",
    "    westall = westall[m:]"
   ]
  },
  {
   "cell_type": "code",
   "execution_count": 11,
   "metadata": {},
   "outputs": [
    {
     "name": "stdout",
     "output_type": "stream",
     "text": [
      "(14077440, 1)\n"
     ]
    }
   ],
   "source": [
    "eastall = np.empty\n",
    "for i in range(1,53):\n",
    "    e = sio.loadmat('../data_20180428/[East]'+repr(i)+'.mat')\n",
    "    ev = e['VALUE']\n",
    "    eastall = np.append(eastall ,ev)\n",
    "eastall = np.delete(eastall, [0, 0], axis=0)\n",
    "eastall=np.expand_dims(eastall, axis=1)\n",
    "print(eastall.shape)\n",
    "\n",
    "e_ar = []\n",
    "e_ma = []\n",
    "n = len(eastall)\n",
    "m = int(n/10)\n",
    "for i in range(10):\n",
    "    data = eastall[:m]\n",
    "    ea = ARIMA(data, order=[1,0,1])\n",
    "    e_fit = ea.fit()\n",
    "    ear = e_fit.arparams\n",
    "    ema = e_fit.maparams\n",
    "    e_ar.append(ear)\n",
    "    e_ma.append(ema)\n",
    "    eastall = eastall[m:]"
   ]
  },
  {
   "cell_type": "code",
   "execution_count": 12,
   "metadata": {},
   "outputs": [
    {
     "data": {
      "image/png": "[encoded data removed]",
      "text/plain": [
       "<Figure size 432x288 with 1 Axes>"
      ]
     },
     "metadata": {
      "needs_background": "light"
     },
     "output_type": "display_data"
    }
   ],
   "source": [
    "for i in range(10):\n",
    "    plt.scatter(t_ar,y = t_ma, s = 30, c = 'r')\n",
    "    plt.scatter(w_ar,y = w_ma, s = 30, c = 'g')\n",
    "    plt.scatter(e_ar,y = e_ma, s = 30, c = 'b')"
   ]
  }
 ],
 "metadata": {
  "kernelspec": {
   "display_name": "Python 3",
   "language": "python",
   "name": "python3"
  },
  "language_info": {
   "codemirror_mode": {
    "name": "ipython",
    "version": 3
   },
   "file_extension": ".py",
   "mimetype": "text/x-python",
   "name": "python",
   "nbconvert_exporter": "python",
   "pygments_lexer": "ipython3",
   "version": "3.8.3"
  }
 },
 "nbformat": 4,
 "nbformat_minor": 2
}
